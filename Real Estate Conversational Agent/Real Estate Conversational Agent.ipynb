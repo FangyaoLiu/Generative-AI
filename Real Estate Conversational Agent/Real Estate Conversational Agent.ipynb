{
  "metadata": {
    "kernelspec": {
      "name": "python",
      "display_name": "Python (Pyodide)",
      "language": "python"
    },
    "language_info": {
      "codemirror_mode": {
        "name": "ipython",
        "version": 3
      },
      "file_extension": ".py",
      "mimetype": "text/x-python",
      "name": "python",
      "nbconvert_exporter": "python",
      "pygments_lexer": "ipython3",
      "version": "3.10.11"
    }
  },
  "nbformat_minor": 5,
  "nbformat": 4,
  "cells": [
    {
      "id": "a108af04",
      "cell_type": "markdown",
      "source": "This is a starter notebook for the project, you'll have to import the libraries you'll need, you can find a list of the ones available in this workspace in the requirements.txt file in this workspace. ",
      "metadata": {}
    },
    {
      "id": "9e5a1ed3",
      "cell_type": "markdown",
      "source": "# Section 1 Generate a list of house listings.",
      "metadata": {}
    },
    {
      "id": "6554fd4c",
      "cell_type": "code",
      "source": "import os\n\nos.environ[\"OPENAI_API_KEY\"] = \"voc-12993709331266773773364678ee3ae65f628.88770020\"\nos.environ[\"OPENAI_API_BASE\"] = \"https://openai.vocareum.com/v1\"\n\nfrom langchain.llms import OpenAI\n\nmodel_name = \"gpt-3.5-turbo\"\ntemperature = 0.0\nllm_generate_listings = OpenAI(model_name=model_name, temperature=temperature, max_tokens = 3000)",
      "metadata": {},
      "outputs": [
        {
          "name": "stderr",
          "output_type": "stream",
          "text": "/opt/conda/lib/python3.10/site-packages/langchain/llms/openai.py:202: UserWarning: You are trying to use a chat model. This way of initializing it is no longer supported. Instead, please use: `from langchain.chat_models import ChatOpenAI`\n,  warnings.warn(\n,/opt/conda/lib/python3.10/site-packages/langchain/llms/openai.py:790: UserWarning: You are trying to use a chat model. This way of initializing it is no longer supported. Instead, please use: `from langchain.chat_models import ChatOpenAI`\n,  warnings.warn(\n"
        }
      ],
      "execution_count": 1
    },
    {
      "id": "e54f8c8b",
      "cell_type": "code",
      "source": "example_listing = \"\"\"Neighborhood,Price,Bedrooms,Bathrooms,House Size,Description,Neighborhood Description\n\"Green Oaks\",\"$800,000\",3,2,\"2,000 sqft\",\"Welcome to this eco-friendly oasis nestled in the heart of Green Oaks. This charming 3-bedroom, 2-bathroom home boasts energy-efficient features such as solar panels and a well-insulated structure. Natural light floods the living spaces, highlighting the beautiful hardwood floors and eco-conscious finishes. The open-concept kitchen and dining area lead to a spacious backyard with a vegetable garden, perfect for the eco-conscious family. Embrace sustainable living without compromising on style in this Green Oaks gem.\",\"Green Oaks is a close-knit, environmentally-conscious community with access to organic grocery stores, community gardens, and bike paths. Take a stroll through the nearby Green Oaks Park or grab a cup of coffee at the cozy Green Bean Cafe. With easy access to public transportation and bike lanes, commuting is a breeze.\"\n\"\"\"",
      "metadata": {},
      "outputs": [],
      "execution_count": 2
    },
    {
      "id": "e9231fc5",
      "cell_type": "code",
      "source": "# Generate real estate listings \ninstructions = f\"\"\"\nGenerate another 10 different realistic real estate listings with some different locations, house types and prices. New listings should be added after this example: \n\n{example_listing}\n\"\"\"\ngenerated_listings = llm_generate_listings.predict(instructions).replace(\"\\n\\n\", \"\\n\")",
      "metadata": {},
      "outputs": [],
      "execution_count": 3
    },
    {
      "id": "25e26895",
      "cell_type": "code",
      "source": "print(generated_listings)",
      "metadata": {},
      "outputs": [
        {
          "name": "stdout",
          "output_type": "stream",
          "text": "\"Seaside Retreat\",\"$1,200,000\",4,3,\"2,500 sqft\",\"Escape to this stunning seaside retreat located just steps away from the beach. This 4-bedroom, 3-bathroom home features panoramic ocean views from every room, a gourmet kitchen with high-end appliances, and a spacious deck perfect for entertaining. Enjoy the sound of crashing waves and salty sea breeze in this coastal paradise.\",\"Seaside Retreat is a sought-after beachfront community known for its pristine sandy beaches, charming seaside shops, and delicious seafood restaurants. Residents can enjoy surfing, paddleboarding, and beach bonfires right in their backyard.\"\n,\"Mountain Hideaway\",\"$900,000\",3,2.5,\"2,300 sqft\",\"Discover this hidden mountain hideaway nestled in the tranquil forests of the Sierra Nevada. This 3-bedroom, 2.5-bathroom home features vaulted ceilings, a cozy stone fireplace, and a wrap-around deck with breathtaking mountain views. Escape the hustle and bustle of city life and embrace the serenity of nature in this peaceful retreat.\",\"Mountain Hideaway is a secluded mountain community known for its hiking trails, wildlife sightings, and stunning mountain vistas. Residents can enjoy skiing, snowboarding, and snowshoeing in the winter months, and hiking, fishing, and mountain biking in the summer.\"\n,\"Urban Loft\",\"$700,000\",2,2,\"1,800 sqft\",\"Live in style in this chic urban loft located in the heart of the city. This 2-bedroom, 2-bathroom loft features exposed brick walls, high ceilings, and industrial-chic finishes. The open floor plan is perfect for entertaining, and the rooftop terrace offers stunning city views. Experience city living at its finest in this trendy urban oasis.\",\"Urban Loft is a vibrant urban neighborhood known for its trendy restaurants, art galleries, and nightlife. Residents can walk to local cafes, boutiques, and cultural attractions, and enjoy easy access to public transportation and bike-sharing stations.\"\n,\"Ranch Retreat\",\"$1,500,000\",5,4,\"3,500 sqft\",\"Escape to this sprawling ranch retreat situated on 10 acres of rolling hills and lush pastures. This 5-bedroom, 4-bathroom home features a gourmet kitchen, a cozy stone fireplace, and a private guest house. The expansive outdoor space includes a barn, a riding arena, and a sparkling pool, making it the perfect retreat for equestrian enthusiasts and nature lovers alike.\",\"Ranch Retreat is a prestigious equestrian community known for its horse-friendly amenities, riding trails, and scenic countryside views. Residents can enjoy horseback riding, hiking, and birdwatching in this peaceful rural setting.\"\n,\"Lakeside Haven\",\"$950,000\",3,2.5,\"2,100 sqft\",\"Relax in this lakeside haven located on the shores of a tranquil lake. This 3-bedroom, 2.5-bathroom home features a gourmet kitchen, a cozy fireplace, and a private dock for boating and fishing. The expansive deck offers stunning lake views, perfect for enjoying morning coffee or evening sunsets. Embrace lakeside living in this peaceful retreat.\",\"Lakeside Haven is a picturesque lakeside community known for its water activities, fishing spots, and scenic hiking trails. Residents can enjoy boating, kayaking, and paddleboarding on the lake, and explore nearby parks and nature reserves.\"\n,\"Desert Oasis\",\"$800,000\",4,3,\"2,400 sqft\",\"Discover this desert oasis nestled in the arid landscapes of the Southwest. This 4-bedroom, 3-bathroom home features a modern design, a gourmet kitchen, and a private courtyard with a sparkling pool. The expansive backyard offers stunning desert views and is perfect for outdoor entertaining. Experience the beauty of the desert in this luxurious oasis.\",\"Desert Oasis is a serene desert community known for its stunning sunsets, starry skies, and unique desert flora and fauna. Residents can enjoy hiking, stargazing, and off-roading in the nearby desert landscapes.\"\n,\"Country Cottage\",\"$600,000\",2,1.5,\"1,500 sqft\",\"Escape to this charming country cottage surrounded by rolling hills and lush vineyards. This 2-bedroom, 1.5-bathroom home features a cozy fireplace, a gourmet kitchen, and a private garden with fruit trees and a vegetable patch. The wrap-around porch offers stunning countryside views, perfect for enjoying a glass of wine at sunset. Experience country living at its finest in this idyllic cottage.\",\"Country Cottage is a quaint countryside community known for its vineyards, wineries, and farm-to-table dining. Residents can enjoy wine tasting, farmers markets, and scenic drives through the picturesque countryside.\"\n,\"City Penthouse\",\"$1,800,000\",3,3.5,\"2,800 sqft\",\"Live the high life in this luxurious city penthouse located in the heart of downtown. This 3-bedroom, 3.5-bathroom penthouse features floor-to-ceiling windows, a gourmet kitchen, and a private rooftop terrace with panoramic city views. The building offers top-notch amenities including a fitness center, concierge service, and private parking. Experience urban living at its finest in this upscale penthouse.\",\"City Penthouse is a bustling urban neighborhood known for its high-end shopping, fine dining, and cultural attractions. Residents can walk to theaters, museums, and art galleries, and enjoy easy access to public transportation and upscale boutiques.\"\n,\"Coastal Cottage\",\"$750,000\",2,1,\"1,200 sqft\",\"Embrace coastal living in this charming cottage located just steps away from the beach. This 2-bedroom, 1-bathroom home features a bright and airy interior, a gourmet kitchen, and a private patio perfect for al fresco dining. Enjoy the sound of crashing waves and salty sea breeze in this coastal retreat.\",\"Coastal Cottage is a quaint beachside community known for its sandy beaches, surf shops, and seafood shacks. Residents can enjoy surfing, beachcombing, and beach bonfires right in their backyard.\"\n"
        }
      ],
      "execution_count": 4
    },
    {
      "id": "09b495a5",
      "cell_type": "code",
      "source": "file_name = \"generated_house_listings.csv\"\n\n# Open the file in write mode and save the string\nwith open(file_name, \"w\") as file:\n    file.write(example_listing+generated_listings)",
      "metadata": {},
      "outputs": [],
      "execution_count": 5
    },
    {
      "id": "e35a71a8",
      "cell_type": "markdown",
      "source": "# Section 2 Vector DB setup and store data",
      "metadata": {}
    },
    {
      "id": "19117b19",
      "cell_type": "code",
      "source": "# store the embeddings of listings in lance db \n\nfrom langchain.document_loaders.csv_loader import CSVLoader\nfrom langchain.embeddings.openai import OpenAIEmbeddings\nfrom langchain.vectorstores import Chroma\n\nloader = CSVLoader(file_path='generated_house_listings.csv')\nhouse_listings = loader.load()\nprint(house_listings)\n\nembeddings = OpenAIEmbeddings()\ndb = Chroma.from_documents(house_listings, embeddings)\n",
      "metadata": {},
      "outputs": [
        {
          "name": "stdout",
          "output_type": "stream",
          "text": "[Document(page_content='Neighborhood: Green Oaks\\nPrice: $800,000\\nBedrooms: 3\\nBathrooms: 2\\nHouse Size: 2,000 sqft\\nDescription: Welcome to this eco-friendly oasis nestled in the heart of Green Oaks. This charming 3-bedroom, 2-bathroom home boasts energy-efficient features such as solar panels and a well-insulated structure. Natural light floods the living spaces, highlighting the beautiful hardwood floors and eco-conscious finishes. The open-concept kitchen and dining area lead to a spacious backyard with a vegetable garden, perfect for the eco-conscious family. Embrace sustainable living without compromising on style in this Green Oaks gem.\\nNeighborhood Description: Green Oaks is a close-knit, environmentally-conscious community with access to organic grocery stores, community gardens, and bike paths. Take a stroll through the nearby Green Oaks Park or grab a cup of coffee at the cozy Green Bean Cafe. With easy access to public transportation and bike lanes, commuting is a breeze.', metadata={'source': 'generated_house_listings.csv', 'row': 0}), Document(page_content='Neighborhood: Seaside Retreat\\nPrice: $1,200,000\\nBedrooms: 4\\nBathrooms: 3\\nHouse Size: 2,500 sqft\\nDescription: Escape to this stunning seaside retreat located just steps away from the beach. This 4-bedroom, 3-bathroom home features panoramic ocean views from every room, a gourmet kitchen with high-end appliances, and a spacious deck perfect for entertaining. Enjoy the sound of crashing waves and salty sea breeze in this coastal paradise.\\nNeighborhood Description: Seaside Retreat is a sought-after beachfront community known for its pristine sandy beaches, charming seaside shops, and delicious seafood restaurants. Residents can enjoy surfing, paddleboarding, and beach bonfires right in their backyard.', metadata={'source': 'generated_house_listings.csv', 'row': 1}), Document(page_content='Neighborhood: Mountain Hideaway\\nPrice: $900,000\\nBedrooms: 3\\nBathrooms: 2.5\\nHouse Size: 2,300 sqft\\nDescription: Discover this hidden mountain hideaway nestled in the tranquil forests of the Sierra Nevada. This 3-bedroom, 2.5-bathroom home features vaulted ceilings, a cozy stone fireplace, and a wrap-around deck with breathtaking mountain views. Escape the hustle and bustle of city life and embrace the serenity of nature in this peaceful retreat.\\nNeighborhood Description: Mountain Hideaway is a secluded mountain community known for its hiking trails, wildlife sightings, and stunning mountain vistas. Residents can enjoy skiing, snowboarding, and snowshoeing in the winter months, and hiking, fishing, and mountain biking in the summer.', metadata={'source': 'generated_house_listings.csv', 'row': 2}), Document(page_content='Neighborhood: Urban Loft\\nPrice: $700,000\\nBedrooms: 2\\nBathrooms: 2\\nHouse Size: 1,800 sqft\\nDescription: Live in style in this chic urban loft located in the heart of the city. This 2-bedroom, 2-bathroom loft features exposed brick walls, high ceilings, and industrial-chic finishes. The open floor plan is perfect for entertaining, and the rooftop terrace offers stunning city views. Experience city living at its finest in this trendy urban oasis.\\nNeighborhood Description: Urban Loft is a vibrant urban neighborhood known for its trendy restaurants, art galleries, and nightlife. Residents can walk to local cafes, boutiques, and cultural attractions, and enjoy easy access to public transportation and bike-sharing stations.', metadata={'source': 'generated_house_listings.csv', 'row': 3}), Document(page_content='Neighborhood: Ranch Retreat\\nPrice: $1,500,000\\nBedrooms: 5\\nBathrooms: 4\\nHouse Size: 3,500 sqft\\nDescription: Escape to this sprawling ranch retreat situated on 10 acres of rolling hills and lush pastures. This 5-bedroom, 4-bathroom home features a gourmet kitchen, a cozy stone fireplace, and a private guest house. The expansive outdoor space includes a barn, a riding arena, and a sparkling pool, making it the perfect retreat for equestrian enthusiasts and nature lovers alike.\\nNeighborhood Description: Ranch Retreat is a prestigious equestrian community known for its horse-friendly amenities, riding trails, and scenic countryside views. Residents can enjoy horseback riding, hiking, and birdwatching in this peaceful rural setting.', metadata={'source': 'generated_house_listings.csv', 'row': 4}), Document(page_content='Neighborhood: Lakeside Haven\\nPrice: $950,000\\nBedrooms: 3\\nBathrooms: 2.5\\nHouse Size: 2,100 sqft\\nDescription: Relax in this lakeside haven located on the shores of a tranquil lake. This 3-bedroom, 2.5-bathroom home features a gourmet kitchen, a cozy fireplace, and a private dock for boating and fishing. The expansive deck offers stunning lake views, perfect for enjoying morning coffee or evening sunsets. Embrace lakeside living in this peaceful retreat.\\nNeighborhood Description: Lakeside Haven is a picturesque lakeside community known for its water activities, fishing spots, and scenic hiking trails. Residents can enjoy boating, kayaking, and paddleboarding on the lake, and explore nearby parks and nature reserves.', metadata={'source': 'generated_house_listings.csv', 'row': 5}), Document(page_content='Neighborhood: Desert Oasis\\nPrice: $800,000\\nBedrooms: 4\\nBathrooms: 3\\nHouse Size: 2,400 sqft\\nDescription: Discover this desert oasis nestled in the arid landscapes of the Southwest. This 4-bedroom, 3-bathroom home features a modern design, a gourmet kitchen, and a private courtyard with a sparkling pool. The expansive backyard offers stunning desert views and is perfect for outdoor entertaining. Experience the beauty of the desert in this luxurious oasis.\\nNeighborhood Description: Desert Oasis is a serene desert community known for its stunning sunsets, starry skies, and unique desert flora and fauna. Residents can enjoy hiking, stargazing, and off-roading in the nearby desert landscapes.', metadata={'source': 'generated_house_listings.csv', 'row': 6}), Document(page_content='Neighborhood: Country Cottage\\nPrice: $600,000\\nBedrooms: 2\\nBathrooms: 1.5\\nHouse Size: 1,500 sqft\\nDescription: Escape to this charming country cottage surrounded by rolling hills and lush vineyards. This 2-bedroom, 1.5-bathroom home features a cozy fireplace, a gourmet kitchen, and a private garden with fruit trees and a vegetable patch. The wrap-around porch offers stunning countryside views, perfect for enjoying a glass of wine at sunset. Experience country living at its finest in this idyllic cottage.\\nNeighborhood Description: Country Cottage is a quaint countryside community known for its vineyards, wineries, and farm-to-table dining. Residents can enjoy wine tasting, farmers markets, and scenic drives through the picturesque countryside.', metadata={'source': 'generated_house_listings.csv', 'row': 7}), Document(page_content='Neighborhood: City Penthouse\\nPrice: $1,800,000\\nBedrooms: 3\\nBathrooms: 3.5\\nHouse Size: 2,800 sqft\\nDescription: Live the high life in this luxurious city penthouse located in the heart of downtown. This 3-bedroom, 3.5-bathroom penthouse features floor-to-ceiling windows, a gourmet kitchen, and a private rooftop terrace with panoramic city views. The building offers top-notch amenities including a fitness center, concierge service, and private parking. Experience urban living at its finest in this upscale penthouse.\\nNeighborhood Description: City Penthouse is a bustling urban neighborhood known for its high-end shopping, fine dining, and cultural attractions. Residents can walk to theaters, museums, and art galleries, and enjoy easy access to public transportation and upscale boutiques.', metadata={'source': 'generated_house_listings.csv', 'row': 8}), Document(page_content='Neighborhood: Coastal Cottage\\nPrice: $750,000\\nBedrooms: 2\\nBathrooms: 1\\nHouse Size: 1,200 sqft\\nDescription: Embrace coastal living in this charming cottage located just steps away from the beach. This 2-bedroom, 1-bathroom home features a bright and airy interior, a gourmet kitchen, and a private patio perfect for al fresco dining. Enjoy the sound of crashing waves and salty sea breeze in this coastal retreat.\\nNeighborhood Description: Coastal Cottage is a quaint beachside community known for its sandy beaches, surf shops, and seafood shacks. Residents can enjoy surfing, beachcombing, and beach bonfires right in their backyard.', metadata={'source': 'generated_house_listings.csv', 'row': 9})]\n"
        }
      ],
      "execution_count": 6
    },
    {
      "id": "e3a74e7f",
      "cell_type": "markdown",
      "source": "# Section 3 Semantic Search",
      "metadata": {}
    },
    {
      "id": "0efa7e35",
      "cell_type": "code",
      "source": "# Collect User preference, fake questions and answers\nquestions = [   \n                \"How big do you want your house to be?\" ,\n                \"What are 3 most important things for you in choosing this property?\", \n                \"Which amenities would you like?\", \n                \"Which transportation options are important to you?\",\n                \"How urban do you want your neighborhood to be?\",   \n            ]\nanswers = [\n    \"A comfortable three-bedroom house with a spacious kitchen and a cozy living room.\",\n    \"A quiet neighborhood, good local schools, and convenient shopping options.\",\n    \"A backyard for gardening, a two-car garage, and a modern, energy-efficient heating system.\",\n    \"Easy access to a reliable bus line, proximity to a major highway, and bike-friendly roads.\",\n    \"A balance between suburban tranquility and access to urban amenities like restaurants and theaters.\"\n]",
      "metadata": {},
      "outputs": [],
      "execution_count": 35
    },
    {
      "id": "1db2c96f",
      "cell_type": "code",
      "source": "answers_in_string = \" \".join(answers)\npreferred_listings = db.similarity_search(answers_in_string, k=3)\nprint(preferred_listings)",
      "metadata": {},
      "outputs": [
        {
          "name": "stdout",
          "output_type": "stream",
          "text": "[Document(page_content='Neighborhood: Green Oaks\\nPrice: $800,000\\nBedrooms: 3\\nBathrooms: 2\\nHouse Size: 2,000 sqft\\nDescription: Welcome to this eco-friendly oasis nestled in the heart of Green Oaks. This charming 3-bedroom, 2-bathroom home boasts energy-efficient features such as solar panels and a well-insulated structure. Natural light floods the living spaces, highlighting the beautiful hardwood floors and eco-conscious finishes. The open-concept kitchen and dining area lead to a spacious backyard with a vegetable garden, perfect for the eco-conscious family. Embrace sustainable living without compromising on style in this Green Oaks gem.\\nNeighborhood Description: Green Oaks is a close-knit, environmentally-conscious community with access to organic grocery stores, community gardens, and bike paths. Take a stroll through the nearby Green Oaks Park or grab a cup of coffee at the cozy Green Bean Cafe. With easy access to public transportation and bike lanes, commuting is a breeze.', metadata={'row': 0, 'source': 'generated_house_listings.csv'}), Document(page_content='Neighborhood: Country Cottage\\nPrice: $600,000\\nBedrooms: 2\\nBathrooms: 1.5\\nHouse Size: 1,500 sqft\\nDescription: Escape to this charming country cottage surrounded by rolling hills and lush vineyards. This 2-bedroom, 1.5-bathroom home features a cozy fireplace, a gourmet kitchen, and a private garden with fruit trees and a vegetable patch. The wrap-around porch offers stunning countryside views, perfect for enjoying a glass of wine at sunset. Experience country living at its finest in this idyllic cottage.\\nNeighborhood Description: Country Cottage is a quaint countryside community known for its vineyards, wineries, and farm-to-table dining. Residents can enjoy wine tasting, farmers markets, and scenic drives through the picturesque countryside.', metadata={'row': 7, 'source': 'generated_house_listings.csv'}), Document(page_content='Neighborhood: Urban Loft\\nPrice: $700,000\\nBedrooms: 2\\nBathrooms: 2\\nHouse Size: 1,800 sqft\\nDescription: Live in style in this chic urban loft located in the heart of the city. This 2-bedroom, 2-bathroom loft features exposed brick walls, high ceilings, and industrial-chic finishes. The open floor plan is perfect for entertaining, and the rooftop terrace offers stunning city views. Experience city living at its finest in this trendy urban oasis.\\nNeighborhood Description: Urban Loft is a vibrant urban neighborhood known for its trendy restaurants, art galleries, and nightlife. Residents can walk to local cafes, boutiques, and cultural attractions, and enjoy easy access to public transportation and bike-sharing stations.', metadata={'row': 3, 'source': 'generated_house_listings.csv'})]\n"
        }
      ],
      "execution_count": 36
    },
    {
      "id": "efb71f6a",
      "cell_type": "markdown",
      "source": "# Section 4 Search and augment listing based on results",
      "metadata": {}
    },
    {
      "id": "02c7b4b3",
      "cell_type": "code",
      "source": "from langchain.memory import ConversationSummaryMemory, ConversationBufferMemory, CombinedMemory, ChatMessageHistory\n\nhistory = ChatMessageHistory()\nhistory.add_user_message(f\"\"\"You are AI that will recommend user a property listing based on their answers to personal questions. Ask user {len(questions)} questions\"\"\")\nfor i in range(len(questions)):\n    history.add_ai_message(questions[i])\n    history.add_user_message(answers[i])\n\n",
      "metadata": {},
      "outputs": [],
      "execution_count": 37
    },
    {
      "id": "f40c43a6",
      "cell_type": "code",
      "source": "from typing import Any, Dict, Optional, Tuple\n\nllm_agent = OpenAI(model_name=model_name, temperature=temperature, max_tokens = 3000)\n\nclass MementoBufferMemory(ConversationBufferMemory):\n    def save_context(self, inputs: Dict[str, Any], outputs: Dict[str, str]) -> None:\n        input_str, output_str = self._get_input_output(inputs, outputs)\n        self.chat_memory.add_ai_message(output_str)\n    \nconversational_memory = MementoBufferMemory(\n    chat_memory=history,\n    memory_key=\"questions_and_answers\", \n    input_key=\"input\"\n)\n",
      "metadata": {},
      "outputs": [],
      "execution_count": 38
    },
    {
      "id": "736c83fc",
      "cell_type": "code",
      "source": "from langchain.prompts import PromptTemplate\nfrom langchain.chains import ConversationChain\n\nRECOMMENDER_TEMPLATE = \"\"\"The following is a friendly conversation between a human and an AI Real Estate Recommender. \nThe AI collects user preference and provides real estate for a human based on the house listing. \n\nPersonal Questions and Answers:\n{questions_and_answers}\nHuman: {input}\nAI:\"\"\"\nPROMPT = PromptTemplate(\n    input_variables=[\"input\", \"questions_and_answers\"],\n    template=RECOMMENDER_TEMPLATE\n)\n# create a recommendation conversation chain that will let us ask AI for recommendations on all movies\nrecommender = ConversationChain(llm=llm_agent, verbose=True, memory=conversational_memory, prompt=PROMPT)",
      "metadata": {},
      "outputs": [],
      "execution_count": 39
    },
    {
      "id": "91555cfd",
      "cell_type": "code",
      "source": "preferred_listings[0].page_content.split(\"\\n\")",
      "metadata": {},
      "outputs": [
        {
          "data": {
            "text/plain": [
              "['Neighborhood: Green Oaks',\n",
              " 'Price: $800,000',\n",
              " 'Bedrooms: 3',\n",
              " 'Bathrooms: 2',\n",
              " 'House Size: 2,000 sqft',\n",
              " 'Description: Welcome to this eco-friendly oasis nestled in the heart of Green Oaks. This charming 3-bedroom, 2-bathroom home boasts energy-efficient features such as solar panels and a well-insulated structure. Natural light floods the living spaces, highlighting the beautiful hardwood floors and eco-conscious finishes. The open-concept kitchen and dining area lead to a spacious backyard with a vegetable garden, perfect for the eco-conscious family. Embrace sustainable living without compromising on style in this Green Oaks gem.',\n",
              " 'Neighborhood Description: Green Oaks is a close-knit, environmentally-conscious community with access to organic grocery stores, community gardens, and bike paths. Take a stroll through the nearby Green Oaks Park or grab a cup of coffee at the cozy Green Bean Cafe. With easy access to public transportation and bike lanes, commuting is a breeze.']"
            ]
          },
          "execution_count": 40,
          "metadata": {},
          "output_type": "execute_result"
        }
      ],
      "execution_count": 40
    },
    {
      "id": "db1dd887",
      "cell_type": "code",
      "source": "def transform_csv_to_natural_language(listing):\n    content = listing.page_content.split(\"\\n\")\n    natural_listing = \"\"\n    for line in content:\n        natural_listing += (line + \"\\n\")\n    return natural_listing\n    \nquery = \"HERE ARE THE TOP 3 LISTINGS BASED ON USER PREFERENCE, SEPARATED BY EMPTY LINE: \\n\"\nfor listing in preferred_listings:\n    query += (transform_csv_to_natural_language(listing)+\"\\n\")\n\nquery += \"\"\"\n\nIN THE END, GENERATE A PERSONALIZED DESCRIPTIONS FOR THE MOST SUITABLE REAL ESTATE LISTING BASED ON BUYER PREFERENCES. THE DESCRIPTIONS SHOULD BE UNIQUE, APPEALING, AND TAILORED TO THE PREFERENCES PROVIDED WITHOUT CHANGING FACTUAL INFORMATION.\n\"\"\"",
      "metadata": {},
      "outputs": [],
      "execution_count": 41
    },
    {
      "id": "b5b877c2",
      "cell_type": "code",
      "source": "print(query)",
      "metadata": {},
      "outputs": [
        {
          "name": "stdout",
          "output_type": "stream",
          "text": "HERE ARE THE TOP 3 LISTINGS BASED ON USER PREFERENCE, SEPARATED BY EMPTY LINE: \n,Neighborhood: Green Oaks\n,Price: $800,000\n,Bedrooms: 3\n,Bathrooms: 2\n,House Size: 2,000 sqft\n,Description: Welcome to this eco-friendly oasis nestled in the heart of Green Oaks. This charming 3-bedroom, 2-bathroom home boasts energy-efficient features such as solar panels and a well-insulated structure. Natural light floods the living spaces, highlighting the beautiful hardwood floors and eco-conscious finishes. The open-concept kitchen and dining area lead to a spacious backyard with a vegetable garden, perfect for the eco-conscious family. Embrace sustainable living without compromising on style in this Green Oaks gem.\n,Neighborhood Description: Green Oaks is a close-knit, environmentally-conscious community with access to organic grocery stores, community gardens, and bike paths. Take a stroll through the nearby Green Oaks Park or grab a cup of coffee at the cozy Green Bean Cafe. With easy access to public transportation and bike lanes, commuting is a breeze.\n,\n,Neighborhood: Country Cottage\n,Price: $600,000\n,Bedrooms: 2\n,Bathrooms: 1.5\n,House Size: 1,500 sqft\n,Description: Escape to this charming country cottage surrounded by rolling hills and lush vineyards. This 2-bedroom, 1.5-bathroom home features a cozy fireplace, a gourmet kitchen, and a private garden with fruit trees and a vegetable patch. The wrap-around porch offers stunning countryside views, perfect for enjoying a glass of wine at sunset. Experience country living at its finest in this idyllic cottage.\n,Neighborhood Description: Country Cottage is a quaint countryside community known for its vineyards, wineries, and farm-to-table dining. Residents can enjoy wine tasting, farmers markets, and scenic drives through the picturesque countryside.\n,\n,Neighborhood: Urban Loft\n,Price: $700,000\n,Bedrooms: 2\n,Bathrooms: 2\n,House Size: 1,800 sqft\n,Description: Live in style in this chic urban loft located in the heart of the city. This 2-bedroom, 2-bathroom loft features exposed brick walls, high ceilings, and industrial-chic finishes. The open floor plan is perfect for entertaining, and the rooftop terrace offers stunning city views. Experience city living at its finest in this trendy urban oasis.\n,Neighborhood Description: Urban Loft is a vibrant urban neighborhood known for its trendy restaurants, art galleries, and nightlife. Residents can walk to local cafes, boutiques, and cultural attractions, and enjoy easy access to public transportation and bike-sharing stations.\n,\n,\n,\n,IN THE END, GENERATE A PERSONALIZED DESCRIPTIONS FOR THE MOST SUITABLE REAL ESTATE LISTING BASED ON BUYER PREFERENCES. THE DESCRIPTIONS SHOULD BE UNIQUE, APPEALING, AND TAILORED TO THE PREFERENCES PROVIDED WITHOUT CHANGING FACTUAL INFORMATION.\n,\n"
        }
      ],
      "execution_count": 42
    },
    {
      "id": "e0fc9613",
      "cell_type": "code",
      "source": "prediction = recommender.predict(input=query)\nprint(prediction)",
      "metadata": {},
      "outputs": [
        {
          "name": "stdout",
          "output_type": "stream",
          "text": "\n,\n,\u001b[1m> Entering new ConversationChain chain...\u001b[0m\n,Prompt after formatting:\n,\u001b[32;1m\u001b[1;3mThe following is a friendly conversation between a human and an AI Real Estate Recommender. \n,The AI collects user preference and provides real estate for a human based on the house listing. \n,\n,Personal Questions and Answers:\n,Human: You are AI that will recommend user a property listing based on their answers to personal questions. Ask user 5 questions\n,AI: How big do you want your house to be?\n,Human: A comfortable three-bedroom house with a spacious kitchen and a cozy living room.\n,AI: What are 3 most important things for you in choosing this property?\n,Human: A quiet neighborhood, good local schools, and convenient shopping options.\n,AI: Which amenities would you like?\n,Human: A backyard for gardening, a two-car garage, and a modern, energy-efficient heating system.\n,AI: Which transportation options are important to you?\n,Human: Easy access to a reliable bus line, proximity to a major highway, and bike-friendly roads.\n,AI: How urban do you want your neighborhood to be?\n,Human: A balance between suburban tranquility and access to urban amenities like restaurants and theaters.\n,Human: HERE ARE THE TOP 3 LISTINGS BASED ON USER PREFERENCE, SEPARATED BY EMPTY LINE: \n,Neighborhood: Green Oaks\n,Price: $800,000\n,Bedrooms: 3\n,Bathrooms: 2\n,House Size: 2,000 sqft\n,Description: Welcome to this eco-friendly oasis nestled in the heart of Green Oaks. This charming 3-bedroom, 2-bathroom home boasts energy-efficient features such as solar panels and a well-insulated structure. Natural light floods the living spaces, highlighting the beautiful hardwood floors and eco-conscious finishes. The open-concept kitchen and dining area lead to a spacious backyard with a vegetable garden, perfect for the eco-conscious family. Embrace sustainable living without compromising on style in this Green Oaks gem.\n,Neighborhood Description: Green Oaks is a close-knit, environmentally-conscious community with access to organic grocery stores, community gardens, and bike paths. Take a stroll through the nearby Green Oaks Park or grab a cup of coffee at the cozy Green Bean Cafe. With easy access to public transportation and bike lanes, commuting is a breeze.\n,\n,Neighborhood: Country Cottage\n,Price: $600,000\n,Bedrooms: 2\n,Bathrooms: 1.5\n,House Size: 1,500 sqft\n,Description: Escape to this charming country cottage surrounded by rolling hills and lush vineyards. This 2-bedroom, 1.5-bathroom home features a cozy fireplace, a gourmet kitchen, and a private garden with fruit trees and a vegetable patch. The wrap-around porch offers stunning countryside views, perfect for enjoying a glass of wine at sunset. Experience country living at its finest in this idyllic cottage.\n,Neighborhood Description: Country Cottage is a quaint countryside community known for its vineyards, wineries, and farm-to-table dining. Residents can enjoy wine tasting, farmers markets, and scenic drives through the picturesque countryside.\n,\n,Neighborhood: Urban Loft\n,Price: $700,000\n,Bedrooms: 2\n,Bathrooms: 2\n,House Size: 1,800 sqft\n,Description: Live in style in this chic urban loft located in the heart of the city. This 2-bedroom, 2-bathroom loft features exposed brick walls, high ceilings, and industrial-chic finishes. The open floor plan is perfect for entertaining, and the rooftop terrace offers stunning city views. Experience city living at its finest in this trendy urban oasis.\n,Neighborhood Description: Urban Loft is a vibrant urban neighborhood known for its trendy restaurants, art galleries, and nightlife. Residents can walk to local cafes, boutiques, and cultural attractions, and enjoy easy access to public transportation and bike-sharing stations.\n,\n,\n,\n,IN THE END, GENERATE A PERSONALIZED DESCRIPTIONS FOR THE MOST SUITABLE REAL ESTATE LISTING BASED ON BUYER PREFERENCES. THE DESCRIPTIONS SHOULD BE UNIQUE, APPEALING, AND TAILORED TO THE PREFERENCES PROVIDED WITHOUT CHANGING FACTUAL INFORMATION.\n,\n,AI:\u001b[0m\n,\n,\u001b[1m> Finished chain.\u001b[0m\n,Based on your preferences for a comfortable three-bedroom house with a spacious kitchen and cozy living room, in a quiet neighborhood with good local schools and convenient shopping options, with amenities like a backyard for gardening, a two-car garage, and a modern, energy-efficient heating system, and transportation options including easy access to a reliable bus line, proximity to a major highway, and bike-friendly roads, as well as a balance between suburban tranquility and access to urban amenities, the top recommendation for you is the Urban Loft in the vibrant Urban Loft neighborhood.\n,\n,Description: Step into urban sophistication in this chic 2-bedroom, 2-bathroom loft located in the heart of the city. With exposed brick walls, high ceilings, and industrial-chic finishes, this trendy urban oasis offers a perfect blend of style and comfort. The open floor plan is ideal for entertaining, while the rooftop terrace provides stunning city views for relaxation. Embrace city living at its finest in this vibrant neighborhood, with trendy restaurants, art galleries, and nightlife just steps away. Experience the best of both worlds with easy access to urban amenities and the tranquility of a cozy living space in the Urban Loft.\n"
        }
      ],
      "execution_count": 43
    },
    {
      "id": "00e23eff",
      "cell_type": "code",
      "source": "",
      "metadata": {},
      "outputs": [],
      "execution_count": null
    }
  ]
}